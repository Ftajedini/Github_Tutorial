{
  "nbformat": 4,
  "nbformat_minor": 0,
  "metadata": {
    "colab": {
      "provenance": [],
      "authorship_tag": "ABX9TyPz+yCt38ZNXGabGKA0aKft",
      "include_colab_link": true
    },
    "kernelspec": {
      "name": "python3",
      "display_name": "Python 3"
    },
    "language_info": {
      "name": "python"
    },
    "widgets": {
      "application/vnd.jupyter.widget-state+json": {
        "df195ea72e0845ac847d7fa737b6407c": {
          "model_module": "arcgis-map-ipywidget",
          "model_name": "ArcGISMapIPyWidgetModel",
          "model_module_version": "2.2.0.1",
          "state": {
            "_add_this_graphic": {},
            "_add_this_notype_layer": {},
            "_auth_mode": "anonymous",
            "_basemap": "default",
            "_cell_output_screenshot_callback_resp": "",
            "_center": {},
            "_center_long_lat": [],
            "_custom_msg": "",
            "_dom_classes": [],
            "_draw_these_graphics_on_widget_load": [],
            "_draw_these_notype_layers_on_widget_load": [
              {
                "type": "FeatureLayer",
                "url": "https://services9.arcgis.com/RHVPKKiFTONKtxq3/arcgis/rest/services/USA_Wildfires_v1/FeatureServer/0",
                "options": {
                  "renderer": {
                    "visualVariables": [
                      {
                        "type": "sizeInfo",
                        "field": null,
                        "valueExpression": "var Acres = $feature.DailyAcres\r\nvar Age = $feature.FireDiscoveryAge\r\nvar Type = $feature.IncidentTypeCategory\r\nvar vs = $view.scale\r\n\r\nvar ValueSize = When (\r\n    Type == 'RX', 17, //Prescribed Fire\r\n    Type == 'CX', 18, //Incident Complex\r\n    Age == 0, 19.5, //Past 24-hour\r\n    Acres < 1000, 18, //0-999\r\n\tAcres < 10000, 25, //1,000-9,999\r\n\tAcres < 50000, 33, //10,000-49,999\r\n\tAcres < 300000, 41, //50,000-299,999\r\n47 //300,000 or more\r\n)\r\n\r\nWhen(\r\nvs > 9000000, ValueSize,\r\nvs > 4000000, 1 + ValueSize,\r\nvs > 2000000, 2 + ValueSize,\r\nvs > 1000000, 3 + ValueSize,\r\nvs > 500000, 4 + ValueSize, 5 + ValueSize)",
                        "valueExpressionTitle": "Resize Symbol by Map Scale",
                        "valueUnit": "unknown",
                        "minSize": 12.75,
                        "maxSize": 39,
                        "minDataValue": 17,
                        "maxDataValue": 52,
                        "legendOptions": {
                          "showLegend": false
                        }
                      }
                    ],
                    "authoringInfo": {
                      "visualVariables": [
                        {
                          "type": "sizeInfo",
                          "minSliderValue": 17,
                          "maxSliderValue": 52
                        }
                      ]
                    },
                    "type": "uniqueValue",
                    "valueExpression": "var Acres = $feature.DailyAcres\r\nvar Age = $feature.FireDiscoveryAge\r\nvar Type = $feature.IncidentTypeCategory\r\n\r\nif (Type == 'RX') {\r\n    Return \"Prescribed Fire\"\r\n}\r\nif (Type == 'CX') {\r\n    Return \"Incident Complex\"\r\n}\r\nif (Age == 0) {\r\n    Return \"New (Past 24-hour)\"\r\n}\r\nWhen (\r\nAcres < 1000, \"0-999\",\r\nAcres < 10000, \"1,000-9,999\",\r\nAcres < 50000, \"10,000-49,999\",\r\nAcres < 300000,\"50,000-299,999\",\r\n\"300,000 or more\"\r\n)",
                    "valueExpressionTitle": "USA Wildfire Incidents (Acres)",
                    "defaultSymbol": null,
                    "uniqueValueInfos": [
                      {
                        "value": "300,000 or more",
                        "symbol": {
                          "angle": 0,
                          "xoffset": 0,
                          "yoffset": 0,
                          "type": "esriPMS",
                          "url": "2da7fe6b-b4b4-4c70-9833-a8de45c1dc30",
                          "width": 35.25,
                          "height": 35.25,
                          "imageData": "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",
                          "contentType": "image/png"
                        },
                        "label": "300,000 or more"
                      },
                      {
                        "value": "50,000-299,999",
                        "symbol": {
                          "angle": 0,
                          "xoffset": 0,
                          "yoffset": 0,
                          "type": "esriPMS",
                          "url": "4b04d533-50ab-41cd-b272-a051add06705",
                          "width": 30.75,
                          "height": 30.75,
                          "imageData": "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",
                          "contentType": "image/png"
                        },
                        "label": "50,000-299,999"
                      },
                      {
                        "value": "10,000-49,999",
                        "symbol": {
                          "angle": 0,
                          "xoffset": 0,
                          "yoffset": 0,
                          "type": "esriPMS",
                          "url": "a8e175d8-5d9b-40d7-9671-f93a970237a8",
                          "width": 24.75,
                          "height": 24.75,
                          "imageData": "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",
                          "contentType": "image/png"
                        },
                        "label": "10,000-49,999"
                      },
                      {
                        "value": "1,000-9,999",
                        "symbol": {
                          "angle": 0,
                          "xoffset": 0,
                          "yoffset": 0,
                          "type": "esriPMS",
                          "url": "fa3934cd-ad9c-4f59-95d0-2db71b4be079",
                          "width": 18.75,
                          "height": 18.75,
                          "imageData": "iVBORw0KGgoAAAANSUhEUgAAAIAAAACABAMAAAAxEHz4AAAAB3RJTUUH5QQWCjAWLKqIZgAAAAlwSFlzAAAK8AAACvABQqw0mAAAADBQTFRF5wAA5wgI7wgI7BIS7y0t705O93Nz96Cg/7W1/8XF/9bW/97e/+fn/+/v////////0i3WZQAAABB0Uk5T////////////////////AOAjXRkAAAWGSURBVHjazZnNbxtFFMDXstfrVlSala22FNS/IZHaShBhOUJEKkJpDgg4IAhSSTgVS4jkFlKJHnqx4YDUU9Ie4FYHKWdSJMS5VIgLPVSoSR0HaXzhI0nTbMez65k3M29mJ7UQfTd79/125n3MvHkTJCNK8FwDDu/fWFyYX7z+Q/+ZAL8vvB5kcm7+9pEBO5dJEAsJClOdIwEOvxkrxIqQwnt9f8D+R0FsSHByzRew3SjEiJBSyw/QHYstUlzyAdj1UYIB2GvEDimt5gEOZmKnhHdzAM2CG0AiN+C3HH1GeN8F2CN5+iwe2g7AbL5+HJftgK3cCfBJfGADPGn46DNf3rUAfvIaABvCBA54bDEaQlhDAd/jn5uaNP88jgEO8AGEtIlQ7yCAXy0mxwDxaybgEHdBiVIsO0p9A/A3vohMUzqJ/f+hAcCDsNihO+iDsg7Yw2PgNKVdfGhtDXAPN+ESpY9w9AsaAF9HytQKKKmAf60mpJYMI18ogB/Rl6odO2A4h8A1g4jp000LIIQA3AcsChWA+lLmhxTwEJ/BQF9OoapFVB0AmiggUgGvdLXHEnA4bp+BBEzTq8okqn0BwJ0Yr3CAiIMzdFv5UOrIwG6CMteXoVyh9KppBA5YRgETKUAkEzOJaoWKAGAJG5MrKUCk82BEirVrQ8A+aoJqpi8WFCMx+No6APyDAspDQBP+AUOWfJoB/nCZgNJ1CFAC+2wG+MppAhEIHNDTrRhYM2llCOhCgGLGMAXgcRhSIePCjXp29zkAd0IkAdkIK/zHn+BzZJUDcCfUJSCLsxepPoeBGxjgL8V2hg2F5evUmMMlDlC8eC4bIWlJQGpFvkBqfjjBATchoJWNsEaBNJQxAacd5wDomIh+bTghm/Zgj+ByC7zOAWBTY2vIsuGEzAjVDWoYocwBIBfZSxlgAgK2C3BMwAi1AQDGEftuGtdDi4FpR8qv7IN9BngiRzRQu2V4kclDJTCk0cgDBngMAK30XWAx4chsieUmkQp3GABsKqE0UUcB0NmYiOQCqwqL5SDZlYCKeFpT9ZkfgF+3JaDNAHJN55brmWHAZGfsGPgl/MZWdgWwJMKurAHol9CqMxZAGipNI44MEaHH0jEA2RzKsKs4AcsWQFkG2hknYF0ByClEcoB1J2DTAsg+O4iEaTdgqKIZcfjZGT0VdNlSACKQhNZWAcStG9CGoSy1ZgNfwCpMJgnoNq54AtZgOoNx96gn4AFcUHImjgHiPlzS/AEiDmrKouoPEDVVqC7r074AkQuRurG86gsQ2ZhuLPe0XMgXcT47oW6uoae+PEVdUrf3midALKrZ9i4KDG0tt8omiGRe4ojs9vSjLGz7WpF1zA8g3g/1Ms/PinJbqOiFJixL7CIz4axe6uYsRJmIyBWl7r62LueI3JfWzHJ/JV9fbq0188DhMwdZHUTIkSffD6BSrSOHrvxglPU+OHSBMul0HgBUifLYB0rFYsfXhPDgCYxA3nQDQFEJj76gTip1PAegHL7BoYVc9ByAcvyHDYhiy64PS321AQFOz+SUVb8HmlVaCySBj6zrymdgAFoTJvklBs8sk/gWno30NhAoN2MSbmD6j2DL22hEKa0wcgHR7yrdOqMVpjbjyIUNU195wWzGqe1Acl6zw3fqlUHNbAdqDUlS+gSo73yudaxfTkyA1pMlwfn5bH3qLUxqnVm0Jaoe/zii+sY7c3Mfvz0e6GdbtCmLnaHTWyLjb0tbOFn3bEzHLyU44GDU1vjIzfnRrweS3SBf33lBkfycf0XyVuICjHxJM/o1UbI75tIvtpM8wMhXZaNf1jmuCxH9/+bCki1P18hIV6ZMepdhGgfB1IrlRb9r43ePfm3MJ3L/xuLc3OL12892ce0p/z/gKZPopEilO4FVAAAAAElFTkSuQmCC",
                          "contentType": "image/png"
                        },
                        "label": "1,000-9,999"
                      },
                      {
                        "value": "0-999",
                        "symbol": {
                          "angle": 0,
                          "xoffset": 0,
                          "yoffset": 0,
                          "type": "esriPMS",
                          "url": "7b398833-efda-4da4-b947-cc8abc6a1b56",
                          "width": 13.5,
                          "height": 13.5,
                          "imageData": "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",
                          "contentType": "image/png"
                        },
                        "label": "0-999"
                      },
                      {
                        "value": "New (Past 24-hour)",
                        "symbol": {
                          "angle": 0,
                          "xoffset": 0,
                          "yoffset": 0,
                          "type": "esriPMS",
                          "url": "5b07c06c-aa9c-4207-972e-42deeccd55e4",
                          "width": 14.625,
                          "height": 14.625,
                          "imageData": "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",
                          "contentType": "image/png"
                        },
                        "label": "New (Past 24-hour)"
                      },
                      {
                        "value": "Incident Complex",
                        "symbol": {
                          "angle": 0,
                          "xoffset": 0,
                          "yoffset": 0,
                          "type": "esriPMS",
                          "url": "58cfaf76-f57e-4da2-b75e-380c89258171",
                          "width": 13.5,
                          "height": 13.5,
                          "imageData": "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",
                          "contentType": "image/png"
                        },
                        "label": "Incident Complex"
                      },
                      {
                        "value": "Prescribed Fire",
                        "symbol": {
                          "angle": 0,
                          "xoffset": 0,
                          "yoffset": 0,
                          "type": "esriPMS",
                          "url": "76156d06-c282-4c8f-a31b-99df53555529",
                          "width": 12.75,
                          "height": 12.75,
                          "imageData": "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",
                          "contentType": "image/png"
                        },
                        "label": "Prescribed Fire"
                      }
                    ]
                  }
                },
                "_hashFromPython": "8566168197916"
              },
              {
                "type": "FeatureLayer",
                "url": "https://services9.arcgis.com/RHVPKKiFTONKtxq3/arcgis/rest/services/USA_Wildfires_v1/FeatureServer/1",
                "options": {
                  "renderer": {
                    "visualVariables": [
                      {
                        "type": "sizeInfo",
                        "field": null,
                        "valueExpression": "var Acres = $feature.DailyAcres\r\nvar Age = $feature.FireDiscoveryAge\r\nvar Type = $feature.IncidentTypeCategory\r\nvar vs = $view.scale\r\n\r\nvar ValueSize = When (\r\n    Type == 'RX', 17, //Prescribed Fire\r\n    Type == 'CX', 18, //Incident Complex\r\n    Age == 0, 19.5, //Past 24-hour\r\n    Acres < 1000, 18, //0-999\r\n\tAcres < 10000, 25, //1,000-9,999\r\n\tAcres < 50000, 33, //10,000-49,999\r\n\tAcres < 300000, 41, //50,000-299,999\r\n47 //300,000 or more\r\n)\r\n\r\nWhen(\r\nvs > 9000000, ValueSize,\r\nvs > 4000000, 1 + ValueSize,\r\nvs > 2000000, 2 + ValueSize,\r\nvs > 1000000, 3 + ValueSize,\r\nvs > 500000, 4 + ValueSize, 5 + ValueSize)",
                        "valueExpressionTitle": "Resize Symbol by Map Scale",
                        "valueUnit": "unknown",
                        "minSize": 12.75,
                        "maxSize": 39,
                        "minDataValue": 17,
                        "maxDataValue": 52,
                        "legendOptions": {
                          "showLegend": false
                        }
                      }
                    ],
                    "authoringInfo": {
                      "visualVariables": [
                        {
                          "type": "sizeInfo",
                          "minSliderValue": 17,
                          "maxSliderValue": 52
                        }
                      ]
                    },
                    "type": "uniqueValue",
                    "valueExpression": "var Acres = $feature.DailyAcres\r\nvar Age = $feature.FireDiscoveryAge\r\nvar Type = $feature.IncidentTypeCategory\r\n\r\nif (Type == 'RX') {\r\n    Return \"Prescribed Fire\"\r\n}\r\nif (Type == 'CX') {\r\n    Return \"Incident Complex\"\r\n}\r\nif (Age == 0) {\r\n    Return \"New (Past 24-hour)\"\r\n}\r\nWhen (\r\nAcres < 1000, \"0-999\",\r\nAcres < 10000, \"1,000-9,999\",\r\nAcres < 50000, \"10,000-49,999\",\r\nAcres < 300000,\"50,000-299,999\",\r\n\"300,000 or more\"\r\n)",
                    "valueExpressionTitle": "USA Wildfire Incidents (Acres)",
                    "defaultSymbol": null,
                    "uniqueValueInfos": [
                      {
                        "value": "300,000 or more",
                        "symbol": {
                          "angle": 0,
                          "xoffset": 0,
                          "yoffset": 0,
                          "type": "esriPMS",
                          "url": "2da7fe6b-b4b4-4c70-9833-a8de45c1dc30",
                          "width": 35.25,
                          "height": 35.25,
                          "imageData": "iVBORw0KGgoAAAANSUhEUgAAAIAAAACABAMAAAAxEHz4AAAAB3RJTUUH5QQWCjAWLKqIZgAAAAlwSFlzAAAK8AAACvABQqw0mAAAADBQTFRF5wAA5wgI7wgI7BIS7y0t705O93Nz96Cg/7W1/8XF/9bW/97e/+fn/+/v////////0i3WZQAAABB0Uk5T////////////////////AOAjXRkAAAWGSURBVHjazZnNbxtFFMDXstfrVlSala22FNS/IZHaShBhOUJEKkJpDgg4IAhSSTgVS4jkFlKJHnqx4YDUU9Ie4FYHKWdSJMS5VIgLPVSoSR0HaXzhI0nTbMez65k3M29mJ7UQfTd79/125n3MvHkTJCNK8FwDDu/fWFyYX7z+Q/+ZAL8vvB5kcm7+9pEBO5dJEAsJClOdIwEOvxkrxIqQwnt9f8D+R0FsSHByzRew3SjEiJBSyw/QHYstUlzyAdj1UYIB2GvEDimt5gEOZmKnhHdzAM2CG0AiN+C3HH1GeN8F2CN5+iwe2g7AbL5+HJftgK3cCfBJfGADPGn46DNf3rUAfvIaABvCBA54bDEaQlhDAd/jn5uaNP88jgEO8AGEtIlQ7yCAXy0mxwDxaybgEHdBiVIsO0p9A/A3vohMUzqJ/f+hAcCDsNihO+iDsg7Yw2PgNKVdfGhtDXAPN+ESpY9w9AsaAF9HytQKKKmAf60mpJYMI18ogB/Rl6odO2A4h8A1g4jp000LIIQA3AcsChWA+lLmhxTwEJ/BQF9OoapFVB0AmiggUgGvdLXHEnA4bp+BBEzTq8okqn0BwJ0Yr3CAiIMzdFv5UOrIwG6CMteXoVyh9KppBA5YRgETKUAkEzOJaoWKAGAJG5MrKUCk82BEirVrQ8A+aoJqpi8WFCMx+No6APyDAspDQBP+AUOWfJoB/nCZgNJ1CFAC+2wG+MppAhEIHNDTrRhYM2llCOhCgGLGMAXgcRhSIePCjXp29zkAd0IkAdkIK/zHn+BzZJUDcCfUJSCLsxepPoeBGxjgL8V2hg2F5evUmMMlDlC8eC4bIWlJQGpFvkBqfjjBATchoJWNsEaBNJQxAacd5wDomIh+bTghm/Zgj+ByC7zOAWBTY2vIsuGEzAjVDWoYocwBIBfZSxlgAgK2C3BMwAi1AQDGEftuGtdDi4FpR8qv7IN9BngiRzRQu2V4kclDJTCk0cgDBngMAK30XWAx4chsieUmkQp3GABsKqE0UUcB0NmYiOQCqwqL5SDZlYCKeFpT9ZkfgF+3JaDNAHJN55brmWHAZGfsGPgl/MZWdgWwJMKurAHol9CqMxZAGipNI44MEaHH0jEA2RzKsKs4AcsWQFkG2hknYF0ByClEcoB1J2DTAsg+O4iEaTdgqKIZcfjZGT0VdNlSACKQhNZWAcStG9CGoSy1ZgNfwCpMJgnoNq54AtZgOoNx96gn4AFcUHImjgHiPlzS/AEiDmrKouoPEDVVqC7r074AkQuRurG86gsQ2ZhuLPe0XMgXcT47oW6uoae+PEVdUrf3midALKrZ9i4KDG0tt8omiGRe4ojs9vSjLGz7WpF1zA8g3g/1Ms/PinJbqOiFJixL7CIz4axe6uYsRJmIyBWl7r62LueI3JfWzHJ/JV9fbq0188DhMwdZHUTIkSffD6BSrSOHrvxglPU+OHSBMul0HgBUifLYB0rFYsfXhPDgCYxA3nQDQFEJj76gTip1PAegHL7BoYVc9ByAcvyHDYhiy64PS321AQFOz+SUVb8HmlVaCySBj6zrymdgAFoTJvklBs8sk/gWno30NhAoN2MSbmD6j2DL22hEKa0wcgHR7yrdOqMVpjbjyIUNU195wWzGqe1Acl6zw3fqlUHNbAdqDUlS+gSo73yudaxfTkyA1pMlwfn5bH3qLUxqnVm0Jaoe/zii+sY7c3Mfvz0e6GdbtCmLnaHTWyLjb0tbOFn3bEzHLyU44GDU1vjIzfnRrweS3SBf33lBkfycf0XyVuICjHxJM/o1UbI75tIvtpM8wMhXZaNf1jmuCxH9/+bCki1P18hIV6ZMepdhGgfB1IrlRb9r43ePfm3MJ3L/xuLc3OL12892ce0p/z/gKZPopEilO4FVAAAAAElFTkSuQmCC",
                          "contentType": "image/png"
                        },
                        "label": "300,000 or more"
                      },
                      {
                        "value": "50,000-299,999",
                        "symbol": {
                          "angle": 0,
                          "xoffset": 0,
                          "yoffset": 0,
                          "type": "esriPMS",
                          "url": "4b04d533-50ab-41cd-b272-a051add06705",
                          "width": 30.75,
                          "height": 30.75,
                          "imageData": "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",
                          "contentType": "image/png"
                        },
                        "label": "50,000-299,999"
                      },
                      {
                        "value": "10,000-49,999",
                        "symbol": {
                          "angle": 0,
                          "xoffset": 0,
                          "yoffset": 0,
                          "type": "esriPMS",
                          "url": "a8e175d8-5d9b-40d7-9671-f93a970237a8",
                          "width": 24.75,
                          "height": 24.75,
                          "imageData": "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",
                          "contentType": "image/png"
                        },
                        "label": "10,000-49,999"
                      },
                      {
                        "value": "1,000-9,999",
                        "symbol": {
                          "angle": 0,
                          "xoffset": 0,
                          "yoffset": 0,
                          "type": "esriPMS",
                          "url": "fa3934cd-ad9c-4f59-95d0-2db71b4be079",
                          "width": 18.75,
                          "height": 18.75,
                          "imageData": "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",
                          "contentType": "image/png"
                        },
                        "label": "1,000-9,999"
                      },
                      {
                        "value": "0-999",
                        "symbol": {
                          "angle": 0,
                          "xoffset": 0,
                          "yoffset": 0,
                          "type": "esriPMS",
                          "url": "7b398833-efda-4da4-b947-cc8abc6a1b56",
                          "width": 13.5,
                          "height": 13.5,
                          "imageData": "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",
                          "contentType": "image/png"
                        },
                        "label": "0-999"
                      },
                      {
                        "value": "New (Past 24-hour)",
                        "symbol": {
                          "angle": 0,
                          "xoffset": 0,
                          "yoffset": 0,
                          "type": "esriPMS",
                          "url": "5b07c06c-aa9c-4207-972e-42deeccd55e4",
                          "width": 14.625,
                          "height": 14.625,
                          "imageData": "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",
                          "contentType": "image/png"
                        },
                        "label": "New (Past 24-hour)"
                      },
                      {
                        "value": "Incident Complex",
                        "symbol": {
                          "angle": 0,
                          "xoffset": 0,
                          "yoffset": 0,
                          "type": "esriPMS",
                          "url": "58cfaf76-f57e-4da2-b75e-380c89258171",
                          "width": 13.5,
                          "height": 13.5,
                          "imageData": "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",
                          "contentType": "image/png"
                        },
                        "label": "Incident Complex"
                      },
                      {
                        "value": "Prescribed Fire",
                        "symbol": {
                          "angle": 0,
                          "xoffset": 0,
                          "yoffset": 0,
                          "type": "esriPMS",
                          "url": "76156d06-c282-4c8f-a31b-99df53555529",
                          "width": 12.75,
                          "height": 12.75,
                          "imageData": "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",
                          "contentType": "image/png"
                        },
                        "label": "Prescribed Fire"
                      }
                    ]
                  }
                },
                "_hashFromPython": "8566168086565"
              }
            ],
            "_extent": {
              "xmin": -141.24669999999998,
              "ymin": 25.411025231000053,
              "xmax": -67.86756218399995,
              "ymax": 65.02641000000006
            },
            "_file_output_screenshot_callback_resp": "",
            "_gallery_basemaps": {
              "default": {
                "baseMapLayers": [
                  {
                    "url": "https://services.arcgisonline.com/ArcGIS/rest/services/World_Topo_Map/MapServer",
                    "layerType": "ArcGISTiledMapServiceLayer",
                    "resourceInfo": {
                      "currentVersion": 10.3,
                      "mapName": "Layers",
                      "supportsDynamicLayers": false,
                      "layers": [
                        {
                          "id": 0,
                          "name": "Citations",
                          "parentLayerId": -1,
                          "defaultVisibility": false,
                          "subLayerIds": null,
                          "minScale": 0,
                          "maxScale": 0
                        }
                      ],
                      "tables": [],
                      "spatialReference": {
                        "wkid": 102100,
                        "latestWkid": 3857
                      },
                      "singleFusedMapCache": true,
                      "tileInfo": {
                        "rows": 256,
                        "cols": 256,
                        "dpi": 96,
                        "format": "JPEG",
                        "compressionQuality": 90,
                        "origin": {
                          "x": -20037508.342787,
                          "y": 20037508.342787
                        },
                        "spatialReference": {
                          "wkid": 102100,
                          "latestWkid": 3857
                        },
                        "lods": [
                          {
                            "level": 0,
                            "resolution": 156543.03392800014,
                            "scale": 591657527.591555
                          },
                          {
                            "level": 1,
                            "resolution": 78271.51696399994,
                            "scale": 295828763.795777
                          },
                          {
                            "level": 2,
                            "resolution": 39135.75848200009,
                            "scale": 147914381.897889
                          },
                          {
                            "level": 3,
                            "resolution": 19567.87924099992,
                            "scale": 73957190.948944
                          },
                          {
                            "level": 4,
                            "resolution": 9783.93962049996,
                            "scale": 36978595.474472
                          },
                          {
                            "level": 5,
                            "resolution": 4891.96981024998,
                            "scale": 18489297.737236
                          },
                          {
                            "level": 6,
                            "resolution": 2445.98490512499,
                            "scale": 9244648.868618
                          },
                          {
                            "level": 7,
                            "resolution": 1222.992452562495,
                            "scale": 4622324.434309
                          },
                          {
                            "level": 8,
                            "resolution": 611.4962262813797,
                            "scale": 2311162.217155
                          },
                          {
                            "level": 9,
                            "resolution": 305.74811314055756,
                            "scale": 1155581.108577
                          },
                          {
                            "level": 10,
                            "resolution": 152.87405657041106,
                            "scale": 577790.554289
                          },
                          {
                            "level": 11,
                            "resolution": 76.43702828507324,
                            "scale": 288895.277144
                          },
                          {
                            "level": 12,
                            "resolution": 38.21851414253662,
                            "scale": 144447.638572
                          },
                          {
                            "level": 13,
                            "resolution": 19.10925707126831,
                            "scale": 72223.819286
                          },
                          {
                            "level": 14,
                            "resolution": 9.554628535634155,
                            "scale": 36111.909643
                          },
                          {
                            "level": 15,
                            "resolution": 4.77731426794937,
                            "scale": 18055.954822
                          },
                          {
                            "level": 16,
                            "resolution": 2.388657133974685,
                            "scale": 9027.977411
                          },
                          {
                            "level": 17,
                            "resolution": 1.1943285668550503,
                            "scale": 4513.988705
                          },
                          {
                            "level": 18,
                            "resolution": 0.5971642835598172,
                            "scale": 2256.994353
                          },
                          {
                            "level": 19,
                            "resolution": 0.29858214164761665,
                            "scale": 1128.497176
                          },
                          {
                            "level": 20,
                            "resolution": 0.14929107082380833,
                            "scale": 564.248588
                          },
                          {
                            "level": 21,
                            "resolution": 0.07464553541190416,
                            "scale": 282.124294
                          },
                          {
                            "level": 22,
                            "resolution": 0.03732276770595208,
                            "scale": 141.062147
                          },
                          {
                            "level": 23,
                            "resolution": 0.01866138385297604,
                            "scale": 70.5310735
                          }
                        ]
                      },
                      "initialExtent": {
                        "xmin": -28848255.049479112,
                        "ymin": -2077452.082122866,
                        "xmax": 28848255.049479112,
                        "ymax": 16430757.376790084,
                        "spatialReference": {
                          "wkid": 102100,
                          "latestWkid": 3857
                        }
                      },
                      "fullExtent": {
                        "xmin": -20037507.067161843,
                        "ymin": -19971868.880408604,
                        "xmax": 20037507.067161843,
                        "ymax": 19971868.88040863,
                        "spatialReference": {
                          "wkid": 102100,
                          "latestWkid": 3857
                        }
                      },
                      "minScale": 591657527.591555,
                      "maxScale": 70.5310735,
                      "units": "esriMeters",
                      "supportedImageFormatTypes": "PNG32,PNG24,PNG,JPG,DIB,TIFF,EMF,PS,PDF,GIF,SVG,SVGZ,BMP",
                      "capabilities": "Map,Tilemap,Query,Data",
                      "supportedQueryFormats": "JSON, AMF",
                      "exportTilesAllowed": false,
                      "maxRecordCount": 100,
                      "maxImageHeight": 4096,
                      "maxImageWidth": 4096,
                      "supportedExtensions": "KmlServer"
                    }
                  }
                ],
                "title": "Topographic"
              }
            },
            "_heading": 0,
            "_image_overlays_to_remove": [],
            "_js_cdn_override": "",
            "_layers_to_remove": [],
            "_link_writeonly_extent": {},
            "_link_writeonly_heading": 0,
            "_link_writeonly_rotation": 0,
            "_link_writeonly_tilt": 0,
            "_model_module": "arcgis-map-ipywidget",
            "_model_module_version": "2.2.0.1",
            "_model_name": "ArcGISMapIPyWidgetModel",
            "_overlay_these_images_on_widget_load": [],
            "_overlay_this_image": {},
            "_portal_sharing_rest_url": "https://www.arcgis.com/sharing/rest/",
            "_portal_token": "",
            "_portal_url": "https://www.arcgis.com",
            "_preview_screenshot_callback_resp": "",
            "_readonly_center": {},
            "_readonly_end_time": "",
            "_readonly_extent": {},
            "_readonly_heading": 0,
            "_readonly_rotation": 0,
            "_readonly_scale": -1,
            "_readonly_start_time": "",
            "_readonly_tilt": 0,
            "_readonly_webmap_from_js": {},
            "_readonly_zoom": -1,
            "_rotation": 0,
            "_scale": -1,
            "_snap_to_zoom": true,
            "_tilt": 0,
            "_time_info": {},
            "_trigger_interactive_draw_mode_for": {},
            "_trigger_new_jlab_window_with_args": {},
            "_trigger_print_js_debug_info": "",
            "_trigger_screenshot_with_args": {},
            "_trigger_webscene_save_to_this_portal_id": "",
            "_username": "None",
            "_uuid": "0aac8a05-4615-4136-96b5-cec004fb93b4",
            "_view_count": null,
            "_view_module": "arcgis-map-ipywidget",
            "_view_module_version": "2.2.0.1",
            "_view_name": "ArcGISMapIPyWidgetView",
            "_webmap": {},
            "_webscene": {},
            "_writeonly_end_time": "1970-01-02T00:00:00.000000",
            "_writeonly_start_time": "1970-01-02T00:00:00.000000",
            "_zoom": -1,
            "hide_mode_switch": false,
            "jupyter_target": "",
            "layout": "IPY_MODEL_7f7c60eddfb1425e99afddd431c98073",
            "legend": false,
            "mode": "2D",
            "print_service_url": "",
            "ready": false,
            "tab_mode": "auto",
            "time_mode": "time-window",
            "time_slider": false
          }
        }
      }
    }
  },
  "cells": [
    {
      "cell_type": "markdown",
      "metadata": {
        "id": "view-in-github",
        "colab_type": "text"
      },
      "source": [
        "<a href=\"https://colab.research.google.com/github/Ftajedini/Github_Tutorial/blob/main/newarcgis1.ipynb\" target=\"_parent\"><img src=\"https://colab.research.google.com/assets/colab-badge.svg\" alt=\"Open In Colab\"/></a>"
      ]
    },
    {
      "cell_type": "code",
      "source": [
        "!pip install arcgis"
      ],
      "metadata": {
        "id": "lB5BwQxZgzg9"
      },
      "execution_count": null,
      "outputs": []
    },
    {
      "cell_type": "code",
      "execution_count": 6,
      "metadata": {
        "id": "1pmGQbJNfiGD"
      },
      "outputs": [],
      "source": [
        "from arcgis.gis import GIS"
      ]
    },
    {
      "cell_type": "code",
      "source": [
        "gis = GIS()"
      ],
      "metadata": {
        "id": "D9EH2enagCuu"
      },
      "execution_count": 9,
      "outputs": []
    },
    {
      "cell_type": "code",
      "source": [
        "public_content = gis.content.search(\"Fire\", item_type=\"Feature Layer\", max_items=5)"
      ],
      "metadata": {
        "id": "jkISwbUloi31"
      },
      "execution_count": 10,
      "outputs": []
    },
    {
      "cell_type": "code",
      "source": [
        "public_content"
      ],
      "metadata": {
        "colab": {
          "base_uri": "https://localhost:8080/"
        },
        "id": "26axwRXBonOw",
        "outputId": "b6aa3b4d-9e90-4535-992a-b68fc4366b3b"
      },
      "execution_count": 11,
      "outputs": [
        {
          "output_type": "execute_result",
          "data": {
            "text/plain": [
              "[<Item title:\"USA Current Wildfires\" type:Feature Layer Collection owner:esri_livefeeds2>,\n",
              " <Item title:\"USA Weather Watches and Warnings\" type:Feature Layer Collection owner:esri_livefeeds2>,\n",
              " <Item title:\"Satellite (VIIRS) Thermal Hotspots and Fire Activity\" type:Feature Layer Collection owner:esri_livefeeds2>,\n",
              " <Item title:\"Satellite (MODIS) Thermal Hotspots and Fire Activity\" type:Feature Layer Collection owner:esri_livefeeds2>,\n",
              " <Item title:\"OpenStreetMap Amenities for North America\" type:Feature Layer Collection owner:smoore_osm>]"
            ]
          },
          "metadata": {},
          "execution_count": 11
        }
      ]
    },
    {
      "cell_type": "code",
      "source": [
        "from IPython.display import display\n",
        "for item in public_content:\n",
        "    display(item)"
      ],
      "metadata": {
        "colab": {
          "base_uri": "https://localhost:8080/",
          "height": 812
        },
        "id": "RXGQZz8uovco",
        "outputId": "a6fd461b-0f42-42ff-daab-32323992596c"
      },
      "execution_count": 12,
      "outputs": [
        {
          "output_type": "display_data",
          "data": {
            "text/plain": [
              "<Item title:\"USA Current Wildfires\" type:Feature Layer Collection owner:esri_livefeeds2>"
            ],
            "text/html": [
              "<div class=\"item_container\" style=\"height: auto; overflow: hidden; border: 1px solid #cfcfcf; border-radius: 2px; background: #f6fafa; line-height: 1.21429em; padding: 10px;\">\n",
              "                    <div class=\"item_left\" style=\"width: 210px; float: left;\">\n",
              "                       <a href='https://www.arcgis.com/home/item.html?id=d957997ccee7408287a963600a77f61f' target='_blank'>\n",
              "                        <img src='https://www.arcgis.com/sharing/rest//content/items/d957997ccee7408287a963600a77f61f/info/thumbnail/thumbnail1589394128160.jpeg' class=\"itemThumbnail\">\n",
              "                       </a>\n",
              "                    </div>\n",
              "\n",
              "                    <div class=\"item_right\"     style=\"float: none; width: auto; overflow: hidden;\">\n",
              "                        <a href='https://www.arcgis.com/home/item.html?id=d957997ccee7408287a963600a77f61f' target='_blank'><b>USA Current Wildfires</b>\n",
              "                        </a>\n",
              "                        <br/>This layer shows wildfires that have been updated within the past 7 days in the United States from IRWIN and NIFC information.<img src='https://www.arcgis.com/home/js/jsapi/esri/css/images/item_type_icons/featureshosted16.png' style=\"vertical-align:middle;\" width=16 height=16>Feature Layer Collection by esri_livefeeds2\n",
              "                        <br/>Last Modified: November 25, 2023\n",
              "                        <br/>240 comments, 184756000 views\n",
              "                    </div>\n",
              "                </div>\n",
              "                "
            ]
          },
          "metadata": {}
        },
        {
          "output_type": "display_data",
          "data": {
            "text/plain": [
              "<Item title:\"USA Weather Watches and Warnings\" type:Feature Layer Collection owner:esri_livefeeds2>"
            ],
            "text/html": [
              "<div class=\"item_container\" style=\"height: auto; overflow: hidden; border: 1px solid #cfcfcf; border-radius: 2px; background: #f6fafa; line-height: 1.21429em; padding: 10px;\">\n",
              "                    <div class=\"item_left\" style=\"width: 210px; float: left;\">\n",
              "                       <a href='https://www.arcgis.com/home/item.html?id=a6134ae01aad44c499d12feec782b386' target='_blank'>\n",
              "                        <img src='https://www.arcgis.com/sharing/rest//content/items/a6134ae01aad44c499d12feec782b386/info/thumbnail/thumbnail1560897974595.jpeg' class=\"itemThumbnail\">\n",
              "                       </a>\n",
              "                    </div>\n",
              "\n",
              "                    <div class=\"item_right\"     style=\"float: none; width: auto; overflow: hidden;\">\n",
              "                        <a href='https://www.arcgis.com/home/item.html?id=a6134ae01aad44c499d12feec782b386' target='_blank'><b>USA Weather Watches and Warnings</b>\n",
              "                        </a>\n",
              "                        <br/>A live data feed from the National Weather Service containing official weather warnings, watches, and advisory statements for the United States.<img src='https://www.arcgis.com/home/js/jsapi/esri/css/images/item_type_icons/featureshosted16.png' style=\"vertical-align:middle;\" width=16 height=16>Feature Layer Collection by esri_livefeeds2\n",
              "                        <br/>Last Modified: April 17, 2023\n",
              "                        <br/>75 comments, 136217315 views\n",
              "                    </div>\n",
              "                </div>\n",
              "                "
            ]
          },
          "metadata": {}
        },
        {
          "output_type": "display_data",
          "data": {
            "text/plain": [
              "<Item title:\"Satellite (VIIRS) Thermal Hotspots and Fire Activity\" type:Feature Layer Collection owner:esri_livefeeds2>"
            ],
            "text/html": [
              "<div class=\"item_container\" style=\"height: auto; overflow: hidden; border: 1px solid #cfcfcf; border-radius: 2px; background: #f6fafa; line-height: 1.21429em; padding: 10px;\">\n",
              "                    <div class=\"item_left\" style=\"width: 210px; float: left;\">\n",
              "                       <a href='https://www.arcgis.com/home/item.html?id=dece90af1a0242dcbf0ca36d30276aa3' target='_blank'>\n",
              "                        <img src='https://www.arcgis.com/sharing/rest//content/items/dece90af1a0242dcbf0ca36d30276aa3/info/thumbnail/thumbnail1586453756149.png' class=\"itemThumbnail\">\n",
              "                       </a>\n",
              "                    </div>\n",
              "\n",
              "                    <div class=\"item_right\"     style=\"float: none; width: auto; overflow: hidden;\">\n",
              "                        <a href='https://www.arcgis.com/home/item.html?id=dece90af1a0242dcbf0ca36d30276aa3' target='_blank'><b>Satellite (VIIRS) Thermal Hotspots and Fire Activity</b>\n",
              "                        </a>\n",
              "                        <br/>Thermal activity detected by the VIIRS sensors on the NOAA/NASA Suomi NPP and NOAA-20 satellites during the last 7 days.<img src='https://www.arcgis.com/home/js/jsapi/esri/css/images/item_type_icons/featureshosted16.png' style=\"vertical-align:middle;\" width=16 height=16>Feature Layer Collection by esri_livefeeds2\n",
              "                        <br/>Last Modified: November 25, 2023\n",
              "                        <br/>82 comments, 95320530 views\n",
              "                    </div>\n",
              "                </div>\n",
              "                "
            ]
          },
          "metadata": {}
        },
        {
          "output_type": "display_data",
          "data": {
            "text/plain": [
              "<Item title:\"Satellite (MODIS) Thermal Hotspots and Fire Activity\" type:Feature Layer Collection owner:esri_livefeeds2>"
            ],
            "text/html": [
              "<div class=\"item_container\" style=\"height: auto; overflow: hidden; border: 1px solid #cfcfcf; border-radius: 2px; background: #f6fafa; line-height: 1.21429em; padding: 10px;\">\n",
              "                    <div class=\"item_left\" style=\"width: 210px; float: left;\">\n",
              "                       <a href='https://www.arcgis.com/home/item.html?id=b8f4033069f141729ffb298b7418b653' target='_blank'>\n",
              "                        <img src='https://www.arcgis.com/sharing/rest//content/items/b8f4033069f141729ffb298b7418b653/info/thumbnail/thumbnail1560896788298.jpeg' class=\"itemThumbnail\">\n",
              "                       </a>\n",
              "                    </div>\n",
              "\n",
              "                    <div class=\"item_right\"     style=\"float: none; width: auto; overflow: hidden;\">\n",
              "                        <a href='https://www.arcgis.com/home/item.html?id=b8f4033069f141729ffb298b7418b653' target='_blank'><b>Satellite (MODIS) Thermal Hotspots and Fire Activity</b>\n",
              "                        </a>\n",
              "                        <br/>Thermal activity detected by the MODIS sensors on the NASA Aqua and Terra satellites during the last 48 hours and 7 days.<img src='https://www.arcgis.com/home/js/jsapi/esri/css/images/item_type_icons/featureshosted16.png' style=\"vertical-align:middle;\" width=16 height=16>Feature Layer Collection by esri_livefeeds2\n",
              "                        <br/>Last Modified: November 25, 2023\n",
              "                        <br/>31 comments, 85025010 views\n",
              "                    </div>\n",
              "                </div>\n",
              "                "
            ]
          },
          "metadata": {}
        },
        {
          "output_type": "display_data",
          "data": {
            "text/plain": [
              "<Item title:\"OpenStreetMap Amenities for North America\" type:Feature Layer Collection owner:smoore_osm>"
            ],
            "text/html": [
              "<div class=\"item_container\" style=\"height: auto; overflow: hidden; border: 1px solid #cfcfcf; border-radius: 2px; background: #f6fafa; line-height: 1.21429em; padding: 10px;\">\n",
              "                    <div class=\"item_left\" style=\"width: 210px; float: left;\">\n",
              "                       <a href='https://www.arcgis.com/home/item.html?id=bad87ec08d394721a032cd97a0f640a7' target='_blank'>\n",
              "                        <img src='https://www.arcgis.com/sharing/rest//content/items/bad87ec08d394721a032cd97a0f640a7/info/thumbnail/thumbnail1581091284604.png' class=\"itemThumbnail\">\n",
              "                       </a>\n",
              "                    </div>\n",
              "\n",
              "                    <div class=\"item_right\"     style=\"float: none; width: auto; overflow: hidden;\">\n",
              "                        <a href='https://www.arcgis.com/home/item.html?id=bad87ec08d394721a032cd97a0f640a7' target='_blank'><b>OpenStreetMap Amenities for North America</b>\n",
              "                        </a>\n",
              "                        <br/>This feature layer provides access to OpenStreetMap amenities data for North America, which is updated frequently. Zoom in to large scales (e.g. 1:80k) to see the amenity features display. Click on feature for popup.<img src='https://www.arcgis.com/home/js/jsapi/esri/css/images/item_type_icons/featureshosted16.png' style=\"vertical-align:middle;\" width=16 height=16>Feature Layer Collection by smoore_osm\n",
              "                        <br/>Last Modified: April 30, 2020\n",
              "                        <br/>0 comments, 196851 views\n",
              "                    </div>\n",
              "                </div>\n",
              "                "
            ]
          },
          "metadata": {}
        }
      ]
    },
    {
      "cell_type": "code",
      "source": [
        "example_item = public_content[0]\n",
        "display(example_item)"
      ],
      "metadata": {
        "colab": {
          "base_uri": "https://localhost:8080/",
          "height": 176
        },
        "id": "3OoHeWGJo0Fd",
        "outputId": "c27d5d57-b6f1-47b1-b7be-899c88c8f26b"
      },
      "execution_count": 13,
      "outputs": [
        {
          "output_type": "display_data",
          "data": {
            "text/plain": [
              "<Item title:\"USA Current Wildfires\" type:Feature Layer Collection owner:esri_livefeeds2>"
            ],
            "text/html": [
              "<div class=\"item_container\" style=\"height: auto; overflow: hidden; border: 1px solid #cfcfcf; border-radius: 2px; background: #f6fafa; line-height: 1.21429em; padding: 10px;\">\n",
              "                    <div class=\"item_left\" style=\"width: 210px; float: left;\">\n",
              "                       <a href='https://www.arcgis.com/home/item.html?id=d957997ccee7408287a963600a77f61f' target='_blank'>\n",
              "                        <img src='https://www.arcgis.com/sharing/rest//content/items/d957997ccee7408287a963600a77f61f/info/thumbnail/thumbnail1589394128160.jpeg' class=\"itemThumbnail\">\n",
              "                       </a>\n",
              "                    </div>\n",
              "\n",
              "                    <div class=\"item_right\"     style=\"float: none; width: auto; overflow: hidden;\">\n",
              "                        <a href='https://www.arcgis.com/home/item.html?id=d957997ccee7408287a963600a77f61f' target='_blank'><b>USA Current Wildfires</b>\n",
              "                        </a>\n",
              "                        <br/>This layer shows wildfires that have been updated within the past 7 days in the United States from IRWIN and NIFC information.<img src='https://www.arcgis.com/home/js/jsapi/esri/css/images/item_type_icons/featureshosted16.png' style=\"vertical-align:middle;\" width=16 height=16>Feature Layer Collection by esri_livefeeds2\n",
              "                        <br/>Last Modified: November 25, 2023\n",
              "                        <br/>240 comments, 184756000 views\n",
              "                    </div>\n",
              "                </div>\n",
              "                "
            ]
          },
          "metadata": {}
        }
      ]
    },
    {
      "cell_type": "code",
      "source": [
        "#Create a new map object\n",
        "map1 = gis.map()\n",
        "#Focus the map to the part of the world containing the example item\n",
        "map1.extent = example_item.extent\n",
        "#Display the map\n",
        "map1"
      ],
      "metadata": {
        "colab": {
          "base_uri": "https://localhost:8080/",
          "height": 34,
          "referenced_widgets": [
            "df195ea72e0845ac847d7fa737b6407c"
          ]
        },
        "id": "bO9qDSWdpACN",
        "outputId": "839ad57f-9a31-43de-f0da-69e3b32c9d23"
      },
      "execution_count": 14,
      "outputs": [
        {
          "output_type": "display_data",
          "data": {
            "text/plain": [
              "MapView(layout=Layout(height='400px', width='100%'))"
            ],
            "application/vnd.jupyter.widget-view+json": {
              "version_major": 2,
              "version_minor": 0,
              "model_id": "df195ea72e0845ac847d7fa737b6407c"
            }
          },
          "metadata": {}
        },
        {
          "output_type": "display_data",
          "data": {
            "text/plain": [
              "<IPython.core.display.HTML object>"
            ],
            "text/html": [
              "<div class=\"map-static-img-preview-0aac8a05-4615-4136-96b5-cec004fb93b4\"><img src=\"\"></img></div>"
            ]
          },
          "metadata": {}
        },
        {
          "output_type": "display_data",
          "data": {
            "text/plain": [
              "<IPython.core.display.HTML object>"
            ],
            "text/html": [
              "<div class=\"map-html-embed-preview-0aac8a05-4615-4136-96b5-cec004fb93b4\"></div>"
            ]
          },
          "metadata": {}
        }
      ]
    },
    {
      "cell_type": "code",
      "source": [
        "map1.add_layer(example_item)"
      ],
      "metadata": {
        "id": "EPKOLadgpGGU"
      },
      "execution_count": 15,
      "outputs": []
    }
  ]
}
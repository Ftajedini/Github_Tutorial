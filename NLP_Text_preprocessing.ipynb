{
  "nbformat": 4,
  "nbformat_minor": 0,
  "metadata": {
    "colab": {
      "provenance": [],
      "authorship_tag": "ABX9TyMhOwEir5K7X4Duh4JC/7o1",
      "include_colab_link": true
    },
    "kernelspec": {
      "name": "python3",
      "display_name": "Python 3"
    },
    "language_info": {
      "name": "python"
    }
  },
  "cells": [
    {
      "cell_type": "markdown",
      "metadata": {
        "id": "view-in-github",
        "colab_type": "text"
      },
      "source": [
        "<a href=\"https://colab.research.google.com/github/Ftajedini/Github_Tutorial/blob/main/NLP_Text_preprocessing.ipynb\" target=\"_parent\"><img src=\"https://colab.research.google.com/assets/colab-badge.svg\" alt=\"Open In Colab\"/></a>"
      ]
    },
    {
      "cell_type": "code",
      "source": [
        "#https://github.com/lmoroney/tfbook/blob/master/chapter5/emotion_preprocess.ipynb"
      ],
      "metadata": {
        "id": "DQLhzwLAI-p-"
      },
      "execution_count": null,
      "outputs": []
    },
    {
      "cell_type": "markdown",
      "source": [
        "Data matny=corpus\n",
        "لیست جملات /\n",
        "استانداردسازی/\n",
        "Tokenization کلمه/\n",
        "Indexing عدد/\n",
        "vectorization\n"
      ],
      "metadata": {
        "id": "YlioECJaKDA3"
      }
    },
    {
      "cell_type": "markdown",
      "source": [
        "#NLP Text pre_processing"
      ],
      "metadata": {
        "id": "33xWvG8AJ5XX"
      }
    },
    {
      "cell_type": "code",
      "source": [
        "import numpy as np\n",
        "from tensorflow.keras.preprocessing.text import Tokenizer\n",
        "from tensorflow.keras.preprocessing.sequence import pad_sequences\n",
        "from tensorflow.keras.layers import TextVectorization\n",
        ""
      ],
      "metadata": {
        "id": "JEQu7yxBJA9N"
      },
      "execution_count": 4,
      "outputs": []
    },
    {
      "cell_type": "code",
      "source": [
        "text = \"I like my brother. Go home!. Do you like my brother?\""
      ],
      "metadata": {
        "id": "BwLdZ6m1KfIG"
      },
      "execution_count": 1,
      "outputs": []
    },
    {
      "cell_type": "code",
      "source": [
        "sentences = text.split('. ')\n",
        "print(sentences)"
      ],
      "metadata": {
        "colab": {
          "base_uri": "https://localhost:8080/"
        },
        "id": "Qlze3umLLcAw",
        "outputId": "5b6453e1-16ce-4344-a9ef-3b553c4deef8"
      },
      "execution_count": 2,
      "outputs": [
        {
          "output_type": "stream",
          "name": "stdout",
          "text": [
            "['I like my brother', 'Go home!', 'Do you like my brother?']\n"
          ]
        }
      ]
    },
    {
      "cell_type": "markdown",
      "source": [
        "#Method 1\n",
        "1- Tokenization + Indexing"
      ],
      "metadata": {
        "id": "NMvW28U2J_kf"
      }
    },
    {
      "cell_type": "code",
      "source": [
        "tokenizer = Tokenizer(num_words=100, oov_token='')\n",
        "tokenizer.fit_on_texts(sentences)\n",
        "\n",
        "print(tokenizer.word_index)"
      ],
      "metadata": {
        "colab": {
          "base_uri": "https://localhost:8080/"
        },
        "id": "E6TrLz3uLmJg",
        "outputId": "f23e42ca-f5f9-4fec-81e1-80b9ee180dac"
      },
      "execution_count": 5,
      "outputs": [
        {
          "output_type": "stream",
          "name": "stdout",
          "text": [
            "{'': 1, 'like': 2, 'my': 3, 'brother': 4, 'i': 5, 'go': 6, 'home': 7, 'do': 8, 'you': 9}\n"
          ]
        }
      ]
    },
    {
      "cell_type": "markdown",
      "source": [
        "2- Sequencing\n",
        "تبدیل کلمه به اعداد"
      ],
      "metadata": {
        "id": "gfqGbqRWMS8X"
      }
    },
    {
      "cell_type": "code",
      "source": [
        "sequences = tokenizer.texts_to_sequences(sentences)\n",
        "print(sequences)\n",
        ""
      ],
      "metadata": {
        "colab": {
          "base_uri": "https://localhost:8080/"
        },
        "id": "y4kc3OkxMWvP",
        "outputId": "a6c680c2-96d0-457e-aaf8-b90dbce9090f"
      },
      "execution_count": 6,
      "outputs": [
        {
          "output_type": "stream",
          "name": "stdout",
          "text": [
            "[[5, 2, 3, 4], [6, 7], [8, 9, 2, 3, 4]]\n"
          ]
        }
      ]
    },
    {
      "cell_type": "code",
      "source": [
        "new_sentence = [\"I like my sister\"]\n",
        "new_sequence = tokenizer.texts_to_sequences(new_sentence)\n",
        "print(new_sequence)"
      ],
      "metadata": {
        "colab": {
          "base_uri": "https://localhost:8080/"
        },
        "id": "-Uiu4qeBMbcY",
        "outputId": "405ec62c-9a0e-42d2-f266-e12537fc4742"
      },
      "execution_count": 7,
      "outputs": [
        {
          "output_type": "stream",
          "name": "stdout",
          "text": [
            "[[5, 2, 3, 1]]\n"
          ]
        }
      ]
    },
    {
      "cell_type": "markdown",
      "source": [
        "3- Padding"
      ],
      "metadata": {
        "id": "per_I1KHMn97"
      }
    },
    {
      "cell_type": "code",
      "source": [
        "padded_sequences = pad_sequences(sequences, padding='post', maxlen=10)\n",
        "print(padded_sequences)\n",
        "print(type(padded_sequences))\n",
        ""
      ],
      "metadata": {
        "colab": {
          "base_uri": "https://localhost:8080/"
        },
        "id": "D0XTIqAIMnYs",
        "outputId": "5188aee6-800b-45c9-b009-8abc003f8b91"
      },
      "execution_count": 8,
      "outputs": [
        {
          "output_type": "stream",
          "name": "stdout",
          "text": [
            "[[5 2 3 4 0 0 0 0 0 0]\n",
            " [6 7 0 0 0 0 0 0 0 0]\n",
            " [8 9 2 3 4 0 0 0 0 0]]\n",
            "<class 'numpy.ndarray'>\n"
          ]
        }
      ]
    },
    {
      "cell_type": "markdown",
      "source": [
        "#Method2\n",
        "Using TextVectorization Layer"
      ],
      "metadata": {
        "id": "AyYOhsaKMGc4"
      }
    },
    {
      "cell_type": "code",
      "source": [
        "text_vectorization = TextVectorization()\n",
        "text_vectorization.adapt(sentences)\n",
        "\n",
        "print(text_vectorization.get_vocabulary())\n",
        ""
      ],
      "metadata": {
        "colab": {
          "base_uri": "https://localhost:8080/"
        },
        "id": "HEGHU_qSMw5P",
        "outputId": "4306403b-55b8-4455-9a9c-dbb848024e9e"
      },
      "execution_count": 9,
      "outputs": [
        {
          "output_type": "stream",
          "name": "stdout",
          "text": [
            "['', '[UNK]', 'my', 'like', 'brother', 'you', 'i', 'home', 'go', 'do']\n"
          ]
        }
      ]
    },
    {
      "cell_type": "code",
      "source": [
        "encoded_sequences = text_vectorization(sentences)\n",
        "print(encoded_sequences)\n",
        "print(type(encoded_sequences))"
      ],
      "metadata": {
        "id": "hAo7-yc7M23Y",
        "outputId": "86783c13-5205-4622-f7da-f399bc32d8cf",
        "colab": {
          "base_uri": "https://localhost:8080/"
        }
      },
      "execution_count": 10,
      "outputs": [
        {
          "output_type": "stream",
          "name": "stdout",
          "text": [
            "tf.Tensor(\n",
            "[[6 3 2 4 0]\n",
            " [8 7 0 0 0]\n",
            " [9 5 3 2 4]], shape=(3, 5), dtype=int64)\n",
            "<class 'tensorflow.python.framework.ops.EagerTensor'>\n"
          ]
        }
      ]
    }
  ]
}